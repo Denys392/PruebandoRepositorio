{
  "nbformat": 4,
  "nbformat_minor": 0,
  "metadata": {
    "colab": {
      "provenance": [],
      "authorship_tag": "ABX9TyOJRNIHWWAhCkBUqaj23gQc"
    },
    "kernelspec": {
      "name": "python3",
      "display_name": "Python 3"
    },
    "language_info": {
      "name": "python"
    }
  },
  "cells": [
    {
      "cell_type": "code",
      "execution_count": null,
      "metadata": {
        "colab": {
          "base_uri": "https://localhost:8080/"
        },
        "id": "lYA6fbPo_mKq",
        "outputId": "0990d45c-0547-416f-9291-ba9f457969bc"
      },
      "outputs": [
        {
          "output_type": "stream",
          "name": "stdout",
          "text": [
            "{\"aasdsa\": 5}\n"
          ]
        }
      ],
      "source": [
        "import json\n",
        "\n",
        "diccionario = { 'aasdsa' : 5}\n",
        "\n",
        "a = json.dumps(diccionario)\n",
        "\n",
        "print (a)"
      ]
    }
  ]
}