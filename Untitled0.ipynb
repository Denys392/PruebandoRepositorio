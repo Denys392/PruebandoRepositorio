{
  "nbformat": 4,
  "nbformat_minor": 0,
  "metadata": {
    "colab": {
      "provenance": [],
      "authorship_tag": "ABX9TyOOQ+C0XX0po8zrnHKtsBjE"
    },
    "kernelspec": {
      "name": "python3",
      "display_name": "Python 3"
    },
    "language_info": {
      "name": "python"
    }
  },
  "cells": [
    {
      "cell_type": "code",
      "source": [
        "def asd():\n",
        "  return 5"
      ],
      "metadata": {
        "id": "xTjNWIQoC3uR"
      },
      "execution_count": null,
      "outputs": []
    },
    {
      "cell_type": "code",
      "execution_count": 11,
      "metadata": {
        "colab": {
          "base_uri": "https://localhost:8080/"
        },
        "id": "lYA6fbPo_mKq",
        "outputId": "4190de5f-8a87-46a8-ec56-69e22981988f"
      },
      "outputs": [
        {
          "output_type": "stream",
          "name": "stdout",
          "text": [
            "{\"aasdsa\": 5}\n",
            "5\n"
          ]
        }
      ],
      "source": [
        "import json\n",
        "\n",
        "diccionario = { 'aasdsa' : 5, 'adasaffff' : 6}\n",
        "\n",
        "a = json.dumps(diccionario)\n",
        "\n",
        "print (a)\n",
        "print (asd(asd))"
      ]
    }
  ]
}